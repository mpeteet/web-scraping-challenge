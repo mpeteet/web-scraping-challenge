{
 "cells": [
  {
   "cell_type": "markdown",
   "id": "attended-geology",
   "metadata": {},
   "source": [
    "### Mission to Mars"
   ]
  },
  {
   "cell_type": "code",
   "execution_count": 1,
   "id": "dense-oklahoma",
   "metadata": {},
   "outputs": [],
   "source": [
    "# Import dependencies\n",
    "import pandas as pd\n",
    "import requests"
   ]
  },
  {
   "cell_type": "code",
   "execution_count": 2,
   "id": "initial-illustration",
   "metadata": {},
   "outputs": [
    {
     "name": "stdout",
     "output_type": "stream",
     "text": [
      "Requirement already satisfied: splinter in c:\\users\\mpete\\anaconda3\\envs\\pythondata\\lib\\site-packages (0.14.0)\n",
      "Requirement already satisfied: six in c:\\users\\mpete\\anaconda3\\envs\\pythondata\\lib\\site-packages (from splinter) (1.15.0)\n",
      "Requirement already satisfied: selenium>=3.141.0 in c:\\users\\mpete\\anaconda3\\envs\\pythondata\\lib\\site-packages (from splinter) (3.141.0)\n",
      "Requirement already satisfied: urllib3 in c:\\users\\mpete\\anaconda3\\envs\\pythondata\\lib\\site-packages (from selenium>=3.141.0->splinter) (1.26.2)\n"
     ]
    }
   ],
   "source": [
    "# Import beautiful soup and splinter dependencies\n",
    "!pip install splinter\n",
    "from bs4 import BeautifulSoup\n",
    "from splinter import Browser"
   ]
  },
  {
   "cell_type": "code",
   "execution_count": 3,
   "id": "exotic-explanation",
   "metadata": {},
   "outputs": [],
   "source": [
    "# Setup the executable path to the driver\n",
    "executable_path = {\"executable_path\": \"chromedriver.exe\"}\n",
    "browser = Browser(\"chrome\", **executable_path, headless=False)"
   ]
  },
  {
   "cell_type": "markdown",
   "id": "electric-basket",
   "metadata": {},
   "source": [
    "### NASA Mars News"
   ]
  },
  {
   "cell_type": "code",
   "execution_count": 4,
   "id": "received-storage",
   "metadata": {},
   "outputs": [],
   "source": [
    "# Scrape the NASA Mars News Site and collect the latest News Title and Paragraph Text.\n",
    "\n",
    "# Define the url for the website\n",
    "news_url = 'https://mars.nasa.gov/news/?page=0&per_page=40&order=publish_date+desc%2Ccreated_at+desc&search=&category=19%2C165%2C184%2C204&blank_scope=Latest'\n",
    "browser.visit(news_url)\n",
    "    \n",
    "# Define the HTML Object\n",
    "html = browser.html\n",
    "\n",
    "# Parse the HTML with Beautiful Soup\n",
    "news_soup = BeautifulSoup(html, 'html.parser')"
   ]
  },
  {
   "cell_type": "code",
   "execution_count": 5,
   "id": "banned-pharmacology",
   "metadata": {},
   "outputs": [
    {
     "name": "stdout",
     "output_type": "stream",
     "text": [
      "NASA Ingenuity Mars Helicopter Prepares for First Flight\n",
      "Now uncocooned from its protective carbon-fiber shield, the helicopter is being readied for its next steps.  \n"
     ]
    }
   ],
   "source": [
    "# Assign text variables for holding elements and use Beautiful Soup to scrape\n",
    "\n",
    "# Select a single element for scraping and store it\n",
    "slide_elem = news_soup.select_one('div.list_text')\n",
    "news_title = slide_elem.find('div', class_='content_title').get_text()\n",
    "news_title\n",
    "\n",
    "# Select a single element for scraping and store it\n",
    "slide_elem2 = news_soup.select_one('div.list_text')\n",
    "news_p = news_soup.find('div', class_='article_teaser_body').get_text()\n",
    "news_p\n",
    "\n",
    "\n",
    "# Display the scraped content\n",
    "print(news_title)\n",
    "print(news_p)"
   ]
  },
  {
   "cell_type": "markdown",
   "id": "satisfactory-illinois",
   "metadata": {},
   "source": [
    "### JPL Mars Space Images - Featured Image "
   ]
  },
  {
   "cell_type": "code",
   "execution_count": 6,
   "id": "popular-fleece",
   "metadata": {},
   "outputs": [],
   "source": [
    "# Visit the url for JPL Featured Space Image. Use splinter to navigate the site and find the image url for the current Featured Mars Image.\n",
    "\n",
    "# Define the url for the website and use brownser to open the url\n",
    "#mars_url = 'https://data-class-jpl-space.s3.amazonaws.com/JPL_Space/index.html'\n",
    "#browser.visit(mars_url)\n",
    "\n",
    "featured_image_url = 'https://data-class-jpl-space.s3.amazonaws.com/JPL_Space/index.html'\n",
    "browser.visit(featured_image_url)\n",
    "\n",
    "# Define the HTML Object for parsing\n",
    "mars_html = browser.html\n",
    "\n",
    "# Parse the HTML with Beautiful Soup\n",
    "images_soup = BeautifulSoup(html, 'html.parser')"
   ]
  },
  {
   "cell_type": "code",
   "execution_count": 7,
   "id": "systematic-explorer",
   "metadata": {
    "scrolled": true
   },
   "outputs": [],
   "source": [
    "# Find and click the full image button\n",
    "#full_image_elem = browser.find_by_tag('button')[1]\n",
    "#full_image_elem.click()\n",
    "#img_url_rel = images_soup.find('img', class_='fancybox-image').get('src')\n",
    "\n",
    "#display the larger image\n",
    "#print(image_url_rel)"
   ]
  },
  {
   "cell_type": "code",
   "execution_count": 8,
   "id": "blank-production",
   "metadata": {},
   "outputs": [
    {
     "ename": "TypeError",
     "evalue": "'NoneType' object is not subscriptable",
     "output_type": "error",
     "traceback": [
      "\u001b[1;31m---------------------------------------------------------------------------\u001b[0m",
      "\u001b[1;31mTypeError\u001b[0m                                 Traceback (most recent call last)",
      "\u001b[1;32m<ipython-input-8-736a5959c6a5>\u001b[0m in \u001b[0;36m<module>\u001b[1;34m\u001b[0m\n\u001b[0;32m      1\u001b[0m \u001b[1;31m# Find the image url for the current Featured Mars Image and assign it to a variable\u001b[0m\u001b[1;33m\u001b[0m\u001b[1;33m\u001b[0m\u001b[1;33m\u001b[0m\u001b[0m\n\u001b[0;32m      2\u001b[0m \u001b[1;33m\u001b[0m\u001b[0m\n\u001b[1;32m----> 3\u001b[1;33m \u001b[0mfeatured_image\u001b[0m\u001b[1;33m=\u001b[0m\u001b[0mimages_soup\u001b[0m\u001b[1;33m.\u001b[0m\u001b[0mfind\u001b[0m\u001b[1;33m(\u001b[0m\u001b[1;34m'img'\u001b[0m\u001b[1;33m,\u001b[0m \u001b[0mclass_\u001b[0m\u001b[1;33m=\u001b[0m\u001b[1;34m'BaseImage object-scale-down'\u001b[0m\u001b[1;33m)\u001b[0m\u001b[1;33m[\u001b[0m\u001b[1;34m'data-src'\u001b[0m\u001b[1;33m]\u001b[0m\u001b[1;33m\u001b[0m\u001b[1;33m\u001b[0m\u001b[0m\n\u001b[0m\u001b[0;32m      4\u001b[0m \u001b[0mfeatured_image\u001b[0m\u001b[1;33m\u001b[0m\u001b[1;33m\u001b[0m\u001b[0m\n\u001b[0;32m      5\u001b[0m \u001b[1;33m\u001b[0m\u001b[0m\n",
      "\u001b[1;31mTypeError\u001b[0m: 'NoneType' object is not subscriptable"
     ]
    }
   ],
   "source": [
    "# Find the image url for the current Featured Mars Image and assign it to a variable\n",
    "\n",
    "featured_image=images_soup.find('img', class_='BaseImage object-scale-down')['data-src']\n",
    "featured_image\n",
    "\n",
    "print(featured_image)\n",
    "\n",
    "#featured_image_url = images_soup.find('article')['style'].replace('background-image: url(','').replace(');', '')[1:-1]\n",
    "\n",
    "# Here is the main url\n",
    "#main_url = 'https://www.jpl.nasa.gov'\n",
    "\n",
    "\n",
    "#featured_image_url = main_url + featured_image_url\n",
    "#print(image)\n",
    "#print(featured_image_url)"
   ]
  },
  {
   "cell_type": "code",
   "execution_count": null,
   "id": "twenty-enough",
   "metadata": {},
   "outputs": [],
   "source": [
    "# Find the image url for the current Featured Mars Image and assign it to a variable\n",
    "#featured_image_url = images_soup.find('article')['style'].replace('background-image: url(','').replace(');', '')[1:-1]\n",
    "\n",
    "#image = \n",
    "\n",
    "# Here is the main url\n",
    "#main_url = 'https://www.jpl.nasa.gov'\n",
    "\n",
    "# Create the new website url\n",
    "#featured_image_url = main_url + featured_image_url\n",
    "#img_url_rel = main_url + img_url_rel\n",
    "\n",
    "# Display the url\n",
    "#featured_image_url\n",
    "#img_url_rel"
   ]
  },
  {
   "cell_type": "markdown",
   "id": "aging-squad",
   "metadata": {},
   "source": [
    "### Mars Facts"
   ]
  },
  {
   "cell_type": "code",
   "execution_count": null,
   "id": "beginning-gnome",
   "metadata": {},
   "outputs": [],
   "source": [
    "# Visit the Mars Facts webpage and use Pandas to scrape the table containing facts about the planet including Diameter, Mass, etc\n",
    "\n",
    "# Define the website and use Pandas to scrope\n",
    "facts_url = 'https://space-facts.com/mars/'\n",
    "mars_facts = pd.read_html(facts_url)\n",
    "\n",
    "mars_facts"
   ]
  },
  {
   "cell_type": "code",
   "execution_count": null,
   "id": "analyzed-insider",
   "metadata": {},
   "outputs": [],
   "source": [
    "# Create a dataframe\n",
    "mars_dataframe = mars_facts[0]\n",
    "mars_dataframe"
   ]
  },
  {
   "cell_type": "code",
   "execution_count": null,
   "id": "addressed-rochester",
   "metadata": {},
   "outputs": [],
   "source": [
    "# Update the dataframe column names and convert the data to an HTML string\n",
    "\n",
    "mars_dataframe = mars_dataframe.rename(columns={0: 'Attribute', 1 : 'Value'}).set_index(['Attribute'])\n",
    "mars_dataframe.to_html()"
   ]
  },
  {
   "cell_type": "markdown",
   "id": "hawaiian-vanilla",
   "metadata": {},
   "source": [
    "### Mars Hemispheres"
   ]
  },
  {
   "cell_type": "code",
   "execution_count": null,
   "id": "radical-slave",
   "metadata": {},
   "outputs": [],
   "source": [
    "# Visit the USGS Astrogeology site to obtain high resolution images for each of Mar's hemispheres\n",
    "\n",
    "# Define the url for the website\n",
    "hemispheres_url = 'https://astrogeology.usgs.gov/search/results?q=hemisphere+enhanced&k1=target&v1=Mars'\n",
    "browser.visit(hemispheres_url)\n",
    "\n",
    "# Define the HTML Object\n",
    "html_hemispheres = browser.html\n",
    "\n",
    "# Parse the HTML with Beautiful Soup\n",
    "hemispheres_soup = BeautifulSoup(html, 'html.parser')\n",
    "#hemispheres_soup"
   ]
  },
  {
   "cell_type": "code",
   "execution_count": null,
   "id": "amazing-nation",
   "metadata": {},
   "outputs": [],
   "source": [
    "# Find the items with mars info\n",
    "hemisphere_items = hemispheres_soup.find_all('div', class_='item')\n",
    "print(hemisphere_items)"
   ]
  },
  {
   "cell_type": "code",
   "execution_count": null,
   "id": "hundred-reducing",
   "metadata": {},
   "outputs": [],
   "source": [
    "# Create a dictionary to hold the urls\n",
    "hemisphere_image_urls = []\n",
    "\n",
    "# Create the main url\n",
    "hemisphere_main_url = 'https://astrogeology.usgs.gov'\n",
    "\n",
    "# Loop through the urls\n",
    "for i in hemisphere_items:\n",
    "    # store the titles\n",
    "    hemisphere_title = i.find('h3').text\n",
    "    \n",
    "    # store the links to the full images\n",
    "    partial_image_url = i.find('a', class_='itemlink product-item')['href']\n",
    "    \n",
    "    # Visit the full image link\n",
    "    browser.visit(hemisphere_main_url + partial_image_url)\n",
    "    \n",
    "    # Define the HTML Object\n",
    "    partial_image_url = browser.html\n",
    "    \n",
    "    # Use Beautiful Soup to parse the html\n",
    "    hemispheres_soup = BeautifulSoup(partial_image_url, 'html.parser')\n",
    "    \n",
    "    # Obtain the source of the full images\n",
    "    full_image_url = hemisphere_main_url + hemispheres_soup.find('img', class_='wide-image')['src']\n",
    "    \n",
    "    # Append this information to the url dictionary\n",
    "    hemisphere_image_urls.append({\"title\": title, \"full_image_url\": full_image_url})\n",
    "    \n",
    "# Display the dictionary\n",
    "hemisphere_image_urls"
   ]
  },
  {
   "cell_type": "code",
   "execution_count": null,
   "id": "golden-caution",
   "metadata": {},
   "outputs": [],
   "source": [
    "# Close the browser\n",
    "#browser.quit()"
   ]
  },
  {
   "cell_type": "code",
   "execution_count": null,
   "id": "african-wilderness",
   "metadata": {},
   "outputs": [],
   "source": [
    "# Learning assistant code -- for part 2\n",
    "# Run all scraping functions and store results in a dictionary\n",
    "    #data = {\n",
    "        #\"news_title\": news_title,\n",
    "        #\"news_paragraph\": news_paragraph,\n",
    "        #\"featured_image\": featured_image(browser),\n",
    "        #\"facts\": mars_facts(),\n",
    "        #\"hemispheres\": hemispheres(browser),\n",
    "        #\"last_modified\": dt.datetime.now()\n",
    "    #}"
   ]
  },
  {
   "cell_type": "code",
   "execution_count": null,
   "id": "alike-native",
   "metadata": {},
   "outputs": [],
   "source": []
  }
 ],
 "metadata": {
  "kernelspec": {
   "display_name": "Python 3",
   "language": "python",
   "name": "python3"
  },
  "language_info": {
   "codemirror_mode": {
    "name": "ipython",
    "version": 3
   },
   "file_extension": ".py",
   "mimetype": "text/x-python",
   "name": "python",
   "nbconvert_exporter": "python",
   "pygments_lexer": "ipython3",
   "version": "3.8.5"
  }
 },
 "nbformat": 4,
 "nbformat_minor": 5
}
